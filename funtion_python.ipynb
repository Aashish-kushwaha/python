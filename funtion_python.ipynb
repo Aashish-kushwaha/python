{
 "cells": [
  {
   "cell_type": "markdown",
   "id": "74b990d4",
   "metadata": {},
   "source": [
    "# function in python"
   ]
  },
  {
   "cell_type": "markdown",
   "id": "7ff27cc2",
   "metadata": {},
   "source": [
    "function is a block of statements that returns a specific task.The idea is to put some commonly or repeatedly done tasks together and make a function so that instead of writing the same code again and again for different inputs, we can do the function calls to reuse code contained in it over and over again. "
   ]
  },
  {
   "cell_type": "markdown",
   "id": "8b85be99",
   "metadata": {},
   "source": [
    "## syntax:"
   ]
  },
  {
   "cell_type": "markdown",
   "id": "b82e6c6f",
   "metadata": {},
   "source": [
    "def function_name(parameters):\\\n",
    " &nbsp;&nbsp; #statement\\\n",
    "     &nbsp;&nbsp; return expression"
   ]
  },
  {
   "cell_type": "markdown",
   "id": "78cd3bfb",
   "metadata": {},
   "source": [
    "## creating a python function"
   ]
  },
  {
   "cell_type": "code",
   "execution_count": 1,
   "id": "5ce45e21",
   "metadata": {},
   "outputs": [],
   "source": [
    "def fun():\n",
    "    print(\"first function\")"
   ]
  },
  {
   "cell_type": "markdown",
   "id": "b08698ef",
   "metadata": {},
   "source": [
    "## calling a function"
   ]
  },
  {
   "cell_type": "code",
   "execution_count": 2,
   "id": "1b7011e2",
   "metadata": {},
   "outputs": [
    {
     "name": "stdout",
     "output_type": "stream",
     "text": [
      "first function\n"
     ]
    }
   ],
   "source": [
    "fun()"
   ]
  },
  {
   "cell_type": "markdown",
   "id": "8103f803",
   "metadata": {},
   "source": [
    "# returning function"
   ]
  },
  {
   "cell_type": "code",
   "execution_count": 3,
   "id": "cc3aea19",
   "metadata": {},
   "outputs": [],
   "source": [
    "def add(x,y):\n",
    "    c=x+y\n",
    "    return c"
   ]
  },
  {
   "cell_type": "code",
   "execution_count": 4,
   "id": "05131889",
   "metadata": {},
   "outputs": [
    {
     "name": "stdout",
     "output_type": "stream",
     "text": [
      "9\n"
     ]
    }
   ],
   "source": [
    "result=add(4,5)\n",
    "print(result)"
   ]
  },
  {
   "cell_type": "markdown",
   "id": "20bcea37",
   "metadata": {},
   "source": [
    "## returning multiple values"
   ]
  },
  {
   "cell_type": "code",
   "execution_count": 5,
   "id": "9c7bde5c",
   "metadata": {},
   "outputs": [],
   "source": [
    "def add_sub(x,y):\n",
    "    c=x+y\n",
    "    d=x-y\n",
    "    return c,d"
   ]
  },
  {
   "cell_type": "code",
   "execution_count": 6,
   "id": "d57df45d",
   "metadata": {},
   "outputs": [
    {
     "name": "stdout",
     "output_type": "stream",
     "text": [
      "7\n",
      "3\n"
     ]
    }
   ],
   "source": [
    "r1,r2=add_sub(5,2)\n",
    "print(r1)\n",
    "print(r2)"
   ]
  },
  {
   "cell_type": "code",
   "execution_count": 7,
   "id": "00d440b0",
   "metadata": {},
   "outputs": [],
   "source": [
    "def fun1(x,y):\n",
    "    c=x+y\n",
    "    s=\"aashish\"\n",
    "    return c,s"
   ]
  },
  {
   "cell_type": "code",
   "execution_count": 8,
   "id": "2f56974c",
   "metadata": {},
   "outputs": [
    {
     "name": "stdout",
     "output_type": "stream",
     "text": [
      "3\n",
      "<class 'int'>\n",
      "aashish\n",
      "<class 'str'>\n"
     ]
    }
   ],
   "source": [
    "r1,r2=fun1(1,2)\n",
    "print(r1)\n",
    "print(type(r1))\n",
    "print(r2)\n",
    "print(type(r2))"
   ]
  },
  {
   "cell_type": "markdown",
   "id": "3c88577d",
   "metadata": {},
   "source": [
    "## Arguements of function"
   ]
  },
  {
   "cell_type": "markdown",
   "id": "15044f57",
   "metadata": {},
   "source": [
    "### Pass by Reference or pass by value"
   ]
  },
  {
   "cell_type": "markdown",
   "id": "26725317",
   "metadata": {},
   "source": [
    "One important thing to note is, in Python every variable name is a reference. When we pass a variable to a function, a new reference to the object is created. Parameter passing in Python is the same as reference passing in Java.\\\n",
    "When we pass a reference and change the received reference to something else, the connection between the passed and received parameter is broken."
   ]
  },
  {
   "cell_type": "code",
   "execution_count": 9,
   "id": "97b38a66",
   "metadata": {},
   "outputs": [],
   "source": [
    "def update(x):\n",
    "    '''before updateing value of x same id should come'''\n",
    "    print(id(x))\n",
    "    \n",
    "    '''now updating and changing the value of x and we notice the the id is changed and new object is created '''\n",
    "    x=9\n",
    "    print(id(x))\n",
    "    print(\"x:\",x)"
   ]
  },
  {
   "cell_type": "code",
   "execution_count": 10,
   "id": "5ace8ae1",
   "metadata": {},
   "outputs": [
    {
     "name": "stdout",
     "output_type": "stream",
     "text": [
      "2350678370896\n",
      "2350678370896\n",
      "2350678370864\n",
      "x: 9\n",
      "a: 10\n"
     ]
    }
   ],
   "source": [
    "a=10\n",
    "print(id(a)) #id of a \n",
    "update(a)\n",
    "print(\"a:\",a)"
   ]
  },
  {
   "cell_type": "markdown",
   "id": "e61bf32c",
   "metadata": {},
   "source": [
    "if we use some mutable variables like list or something in that case reference link is not broken and id remain the same"
   ]
  },
  {
   "cell_type": "code",
   "execution_count": 11,
   "id": "e2fd4352",
   "metadata": {},
   "outputs": [],
   "source": [
    "def update(x):\n",
    "    \n",
    "    print(id(x))\n",
    "    \n",
    "    x[0]=3\n",
    "\n",
    "    print(id(x))\n",
    "    print(\"x:\",x)"
   ]
  },
  {
   "cell_type": "code",
   "execution_count": 12,
   "id": "311094b2",
   "metadata": {},
   "outputs": [
    {
     "name": "stdout",
     "output_type": "stream",
     "text": [
      "2350761698624\n",
      "2350761698624\n",
      "2350761698624\n",
      "x: [3, 20, 30]\n",
      "a: [3, 20, 30]\n"
     ]
    }
   ],
   "source": [
    "a=[10,20,30]\n",
    "print(id(a)) #id of a \n",
    "update(a)\n",
    "print(\"a:\",a)\n"
   ]
  },
  {
   "cell_type": "markdown",
   "id": "c7691f2a",
   "metadata": {},
   "source": [
    "#### but in case of list also if we change all the element of list then it aloso breaks the link"
   ]
  },
  {
   "cell_type": "code",
   "execution_count": 13,
   "id": "7bb0b921",
   "metadata": {},
   "outputs": [],
   "source": [
    "def update(x):\n",
    "    \n",
    "    print(id(x))\n",
    "    \n",
    "    x=[1,2,3]\n",
    "    print(id(x))\n",
    "    print(\"x:\",x)"
   ]
  },
  {
   "cell_type": "code",
   "execution_count": 14,
   "id": "8af85835",
   "metadata": {},
   "outputs": [
    {
     "name": "stdout",
     "output_type": "stream",
     "text": [
      "2350761276096\n",
      "2350761276096\n",
      "2350761772416\n",
      "x: [1, 2, 3]\n",
      "a: [10, 20, 30]\n"
     ]
    }
   ],
   "source": [
    "a=[10,20,30]\n",
    "print(id(a)) #id of a \n",
    "update(a)\n",
    "print(\"a:\",a)"
   ]
  },
  {
   "cell_type": "markdown",
   "id": "05b3d8ef",
   "metadata": {},
   "source": [
    "## types of arguements"
   ]
  },
  {
   "cell_type": "markdown",
   "id": "3bf5b252",
   "metadata": {},
   "source": [
    "### deafult arguemetns"
   ]
  },
  {
   "cell_type": "markdown",
   "id": "1eee3c10",
   "metadata": {},
   "source": [
    "A default argument is a parameter that assumes a default value if a value is not provided in the function call for that argument. But once we have a default argument, all the arguments to its right must also have default values."
   ]
  },
  {
   "cell_type": "code",
   "execution_count": 15,
   "id": "b2dae37c",
   "metadata": {},
   "outputs": [],
   "source": [
    "def myfun(x,y=50):     # y have the default value of 50\n",
    "    print(\"x:\",x)\n",
    "    print(\"y:\",y)"
   ]
  },
  {
   "cell_type": "code",
   "execution_count": 16,
   "id": "65a0e68d",
   "metadata": {},
   "outputs": [
    {
     "name": "stdout",
     "output_type": "stream",
     "text": [
      "x: 10\n",
      "y: 20\n"
     ]
    }
   ],
   "source": [
    "myfun(10,20)"
   ]
  },
  {
   "cell_type": "markdown",
   "id": "7339756d",
   "metadata": {},
   "source": [
    "## keywords arguements"
   ]
  },
  {
   "cell_type": "markdown",
   "id": "ceb32716",
   "metadata": {},
   "source": [
    "The idea is to allow the caller to specify the argument name with values so that caller does not need to remember the order of parameters."
   ]
  },
  {
   "cell_type": "code",
   "execution_count": 17,
   "id": "0854c90d",
   "metadata": {},
   "outputs": [],
   "source": [
    "def student(fn,ln):\n",
    "    print(\"firstname:\",fn+\" lastname:\",ln)"
   ]
  },
  {
   "cell_type": "code",
   "execution_count": 18,
   "id": "3e6f6241",
   "metadata": {},
   "outputs": [
    {
     "name": "stdout",
     "output_type": "stream",
     "text": [
      "firstname: aashish lastname: kushwaha\n"
     ]
    }
   ],
   "source": [
    "student(fn=\"aashish\",ln=\"kushwaha\")"
   ]
  },
  {
   "cell_type": "markdown",
   "id": "3fea7818",
   "metadata": {},
   "source": [
    "## variable -length arguements"
   ]
  },
  {
   "cell_type": "markdown",
   "id": "903d609b",
   "metadata": {},
   "source": [
    "In Python, we can pass a variable number of arguments to a function using special symbols. There are two special symbols:\\\n",
    "\n",
    " \\*args (Non-Keyword Arguments)\\\n",
    " \\**kwargs (Keyword Arguments)"
   ]
  },
  {
   "cell_type": "code",
   "execution_count": 5,
   "id": "735c27ac",
   "metadata": {},
   "outputs": [],
   "source": [
    "def sum(a,*b):\n",
    "    print(a)\n",
    "    print(b)\n",
    "    c=a\n",
    "    for i in b:\n",
    "        c=c+i\n",
    "     \n",
    "    \n",
    "    print(c)"
   ]
  },
  {
   "cell_type": "code",
   "execution_count": 6,
   "id": "6f398c64",
   "metadata": {},
   "outputs": [
    {
     "name": "stdout",
     "output_type": "stream",
     "text": [
      "1\n",
      "(2, 3, 4)\n",
      "10\n"
     ]
    }
   ],
   "source": [
    "sum(1,2,3,4)"
   ]
  },
  {
   "cell_type": "code",
   "execution_count": 11,
   "id": "9178c29b",
   "metadata": {},
   "outputs": [],
   "source": [
    "def person(name,**data):\n",
    "    print(name)\n",
    "    print(data)\n",
    "    \n",
    "    for i,j in data.items():\n",
    "        print(i,j)\n",
    "    "
   ]
  },
  {
   "cell_type": "code",
   "execution_count": 12,
   "id": "198b0934",
   "metadata": {},
   "outputs": [
    {
     "name": "stdout",
     "output_type": "stream",
     "text": [
      "navin\n",
      "{'age': 28, 'city': 'mumbai', 'mob': 299393}\n",
      "age 28\n",
      "city mumbai\n",
      "mob 299393\n"
     ]
    }
   ],
   "source": [
    "person('navin',age=28,city='mumbai',mob=299393)"
   ]
  },
  {
   "cell_type": "code",
   "execution_count": null,
   "id": "5e77437b",
   "metadata": {},
   "outputs": [],
   "source": []
  }
 ],
 "metadata": {
  "kernelspec": {
   "display_name": "Python 3 (ipykernel)",
   "language": "python",
   "name": "python3"
  },
  "language_info": {
   "codemirror_mode": {
    "name": "ipython",
    "version": 3
   },
   "file_extension": ".py",
   "mimetype": "text/x-python",
   "name": "python",
   "nbconvert_exporter": "python",
   "pygments_lexer": "ipython3",
   "version": "3.9.13"
  }
 },
 "nbformat": 4,
 "nbformat_minor": 5
}

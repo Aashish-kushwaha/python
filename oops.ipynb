{
 "cells": [
  {
   "attachments": {},
   "cell_type": "markdown",
   "metadata": {},
   "source": [
    "# classes and objects\n"
   ]
  },
  {
   "attachments": {},
   "cell_type": "markdown",
   "metadata": {},
   "source": [
    "## class syntax:\n",
    "class classname:\\\n",
    "&emsp;&emsp; #statement   "
   ]
  },
  {
   "cell_type": "markdown",
   "metadata": {},
   "source": [
    "## object defination"
   ]
  },
  {
   "attachments": {},
   "cell_type": "markdown",
   "metadata": {},
   "source": [
    "obj=classname()\\\n",
    "print(obj.classAttribute)"
   ]
  },
  {
   "cell_type": "code",
   "execution_count": 9,
   "metadata": {},
   "outputs": [
    {
     "name": "stdout",
     "output_type": "stream",
     "text": [
      "i am mammal\n",
      "i am dog\n"
     ]
    }
   ],
   "source": [
    "class dog:\n",
    "    type=\"mammal\"\n",
    "    name=\"dog\"\n",
    "\n",
    "    def fun(self):\n",
    "        print(\"i am\",self.type)\n",
    "        print(\"i am\",self.name)\n",
    "\n",
    "obj=dog()\n",
    "obj.fun()\n",
    "\n",
    "        "
   ]
  },
  {
   "attachments": {},
   "cell_type": "markdown",
   "metadata": {},
   "source": [
    "## constructors\n",
    "\\_\\_init\\_\\_() method"
   ]
  },
  {
   "cell_type": "code",
   "execution_count": 13,
   "metadata": {},
   "outputs": [
    {
     "name": "stdout",
     "output_type": "stream",
     "text": [
      "ny name is ashu\n"
     ]
    }
   ],
   "source": [
    "class person:\n",
    "    def __init__(self,name):\n",
    "        self.name=name\n",
    "    def hi(self):\n",
    "        print('ny name is',self.name)\n",
    "\n",
    "obj=person('ashu')\n",
    "obj.hi()"
   ]
  },
  {
   "cell_type": "code",
   "execution_count": 19,
   "metadata": {},
   "outputs": [
    {
     "name": "stdout",
     "output_type": "stream",
     "text": [
      "cat detail\n",
      "type of animal cat\n",
      "breed do\n",
      "color of animal pink\n",
      "dog detail\n",
      "type of animal dog\n",
      "breed bulldog\n",
      "color of animal black\n"
     ]
    }
   ],
   "source": [
    "class animal:\n",
    "\n",
    "    def __init__(self,animal,breed,color):\n",
    "        self.a=animal\n",
    "        self.breed=breed\n",
    "        self.color=color\n",
    "\n",
    "ob1= animal('cat','do','pink')\n",
    "ob2= animal('dog','bulldog','black')\n",
    "\n",
    "print(\"cat detail\")\n",
    "print(\"type of animal\",ob1.a)\n",
    "print(\"breed\",ob1.breed)\n",
    "print(\"color of animal\",ob1.color)\n",
    "\n",
    "print(\"dog detail\")\n",
    "print(\"type of animal\",ob2.a)\n",
    "print(\"breed\",ob2.breed)\n",
    "print(\"color of animal\",ob2.color)"
   ]
  },
  {
   "attachments": {},
   "cell_type": "markdown",
   "metadata": {},
   "source": [
    "## Destructors\n",
    "\\_\\_del\\_\\_() method"
   ]
  },
  {
   "cell_type": "code",
   "execution_count": 25,
   "metadata": {},
   "outputs": [
    {
     "name": "stdout",
     "output_type": "stream",
     "text": [
      "constructor\n",
      "destructor\n"
     ]
    }
   ],
   "source": [
    "class employee:\n",
    "    def __init__(self):\n",
    "        print(\"constructor\")\n",
    "    \n",
    "    def __del__(self):\n",
    "        print(\"destructor\")\n",
    "\n",
    "ohchcb=employee()\n",
    "del ohchcb\n",
    "\n"
   ]
  },
  {
   "attachments": {},
   "cell_type": "markdown",
   "metadata": {},
   "source": [
    "## inheritance\n",
    "It is a mechanism that allows you to create a hierarchy of classes that share a set of properties and methods by deriving a class from another class. Inheritance is the capability of one class to derive or inherit the properties from another class.\n"
   ]
  },
  {
   "attachments": {},
   "cell_type": "markdown",
   "metadata": {},
   "source": [
    "### syntax:\n",
    "class BaseCLass:\\\n",
    "   &emsp; {body}\\\n",
    "class ChildClass(BaseClass):\\\n",
    "    &emsp;{body}"
   ]
  },
  {
   "cell_type": "markdown",
   "metadata": {},
   "source": [
    "#### parent class"
   ]
  },
  {
   "cell_type": "code",
   "execution_count": 65,
   "metadata": {},
   "outputs": [
    {
     "name": "stdout",
     "output_type": "stream",
     "text": [
      "aashish 1\n"
     ]
    }
   ],
   "source": [
    "class person1(object):\n",
    "    def __init__(self,name,id):\n",
    "        self.name=name\n",
    "        self.id=id\n",
    "    \n",
    "    def display(self):\n",
    "        print(self.name,self.id)\n",
    "\n",
    "ob2=person1('aashish',1)\n",
    "ob2.display()\n",
    "\n",
    "\n"
   ]
  },
  {
   "cell_type": "markdown",
   "metadata": {},
   "source": [
    "### child class"
   ]
  },
  {
   "cell_type": "code",
   "execution_count": 69,
   "metadata": {},
   "outputs": [
    {
     "name": "stdout",
     "output_type": "stream",
     "text": [
      "dhf\n",
      "fgf 34\n"
     ]
    }
   ],
   "source": [
    "class emp(person1):\n",
    "    # def __init__(self):\n",
    "    #     print(\"child class\")\n",
    "    def printw(self):\n",
    "        print(\"dhf\")\n",
    "\n",
    "# aaa=emp()\n",
    "\n",
    "a2=emp('fgf',34)\n",
    "a2.printw()\n",
    "a2.display()"
   ]
  },
  {
   "cell_type": "code",
   "execution_count": null,
   "metadata": {},
   "outputs": [],
   "source": []
  }
 ],
 "metadata": {
  "kernelspec": {
   "display_name": "Python 3",
   "language": "python",
   "name": "python3"
  },
  "language_info": {
   "codemirror_mode": {
    "name": "ipython",
    "version": 3
   },
   "file_extension": ".py",
   "mimetype": "text/x-python",
   "name": "python",
   "nbconvert_exporter": "python",
   "pygments_lexer": "ipython3",
   "version": "3.8.3"
  },
  "orig_nbformat": 4
 },
 "nbformat": 4,
 "nbformat_minor": 2
}

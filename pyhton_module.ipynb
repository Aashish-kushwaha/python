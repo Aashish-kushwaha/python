{
 "cells": [
  {
   "attachments": {},
   "cell_type": "markdown",
   "metadata": {},
   "source": [
    "# Python Module"
   ]
  },
  {
   "attachments": {},
   "cell_type": "markdown",
   "metadata": {},
   "source": [
    "a python module is file containing python definition and statements. A module can define functions , classes, and variables. A module can also include runnable code."
   ]
  },
  {
   "cell_type": "code",
   "execution_count": 1,
   "metadata": {},
   "outputs": [
    {
     "name": "stdout",
     "output_type": "stream",
     "text": [
      "9\n",
      "1\n"
     ]
    }
   ],
   "source": [
    "import module_eg\n",
    "print(module_eg.add(4,5))\n",
    "print(module_eg.subtract(10,9))"
   ]
  },
  {
   "attachments": {},
   "cell_type": "markdown",
   "metadata": {},
   "source": [
    "## from statement:\n",
    "python from statement let you import specific attributes from a module without importing the module as a whole"
   ]
  },
  {
   "cell_type": "code",
   "execution_count": 3,
   "metadata": {},
   "outputs": [
    {
     "name": "stdout",
     "output_type": "stream",
     "text": [
      "50\n"
     ]
    }
   ],
   "source": [
    "from module_eg import add\n",
    "print(add(20,30))\n"
   ]
  },
  {
   "attachments": {},
   "cell_type": "markdown",
   "metadata": {},
   "source": [
    "## \\_\\_name\\_\\_ (A special variable) in python"
   ]
  },
  {
   "attachments": {},
   "cell_type": "markdown",
   "metadata": {},
   "source": [
    "since their is no main()  function in python, when the command to run a python program is given to the interpreter, the code that is at level 0 indentation is to be executed.__name__ is a built-in variable which evaluates the name of the current module.\\\n",
    "thus it can be used to check whether the currnt script is being run on its own or being imported somewhere else by combining it with if statement"
   ]
  },
  {
   "cell_type": "code",
   "execution_count": 4,
   "metadata": {},
   "outputs": [
    {
     "name": "stdout",
     "output_type": "stream",
     "text": [
      "file name:__main__\n"
     ]
    }
   ],
   "source": [
    "print(\"file name:%s\"%__name__)"
   ]
  },
  {
   "cell_type": "code",
   "execution_count": 5,
   "metadata": {},
   "outputs": [
    {
     "name": "stdout",
     "output_type": "stream",
     "text": [
      "file name:__main__\n",
      "File2 is being run directly\n"
     ]
    }
   ],
   "source": [
    "import module_eg\n",
    "\n",
    "print(\"file name:%s\"%__name__)\n",
    "\n",
    "  \n",
    "if __name__ == \"__main__\": \n",
    "    print (\"File2 is being run directly\")\n",
    "else: \n",
    "    print (\"File2 is being imported\")"
   ]
  },
  {
   "cell_type": "code",
   "execution_count": null,
   "metadata": {},
   "outputs": [],
   "source": []
  }
 ],
 "metadata": {
  "kernelspec": {
   "display_name": "Python 3",
   "language": "python",
   "name": "python3"
  },
  "language_info": {
   "codemirror_mode": {
    "name": "ipython",
    "version": 3
   },
   "file_extension": ".py",
   "mimetype": "text/x-python",
   "name": "python",
   "nbconvert_exporter": "python",
   "pygments_lexer": "ipython3",
   "version": "3.8.3"
  },
  "orig_nbformat": 4,
  "vscode": {
   "interpreter": {
    "hash": "cad911e89c9cd81e6830ed7e3dceb0d7faa858acac22c42d691ca01e2d61a3cf"
   }
  }
 },
 "nbformat": 4,
 "nbformat_minor": 2
}
